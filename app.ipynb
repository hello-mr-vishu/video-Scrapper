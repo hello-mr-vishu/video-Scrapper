{
 "cells": [
  {
   "cell_type": "code",
   "execution_count": 2,
   "id": "8dbf64fb",
   "metadata": {},
   "outputs": [
    {
     "name": "stdout",
     "output_type": "stream",
     "text": [
      "An unexpected error occurred: HTTP Error 400: Bad Request\n",
      "Invalid YouTube URL. Please try again.\n",
      "Exiting program.\n"
     ]
    }
   ],
   "source": [
    "import os\n",
    "from pytube import YouTube\n",
    "from pytube.exceptions import PytubeError\n",
    "\n",
    "def download_youtube_video(url, output_path=\"downloads\"):\n",
    "    try:\n",
    "        # Create output directory if it doesn't exist\n",
    "        if not os.path.exists(output_path):\n",
    "            os.makedirs(output_path)\n",
    "        \n",
    "        # Initialize YouTube object\n",
    "        yt = YouTube(url)\n",
    "        \n",
    "        # Get the highest resolution stream available\n",
    "        video_stream = yt.streams.filter(progressive=True, file_extension='mp4').order_by('resolution').desc().first()\n",
    "        \n",
    "        if not video_stream:\n",
    "            print(\"No suitable video stream found.\")\n",
    "            return\n",
    "        \n",
    "        print(f\"Downloading: {yt.title}\")\n",
    "        print(f\"Resolution: {video_stream.resolution}\")\n",
    "        \n",
    "        # Download the video\n",
    "        video_stream.download(output_path=output_path)\n",
    "        print(f\"Download completed! Video saved to {output_path}/{yt.title}.mp4\")\n",
    "        \n",
    "    except PytubeError as e:\n",
    "        print(f\"An error occurred: {e}\")\n",
    "    except Exception as e:\n",
    "        print(f\"An unexpected error occurred: {e}\")\n",
    "\n",
    "def main():\n",
    "    while True:\n",
    "        # Get YouTube URL from user\n",
    "        url = input(\"Enter YouTube video URL (or 'q' to quit): \")\n",
    "        \n",
    "        if url.lower() == 'q':\n",
    "            print(\"Exiting program.\")\n",
    "            break\n",
    "            \n",
    "        if not url.startswith(('https://www.youtube.com', 'https://youtu.be')):\n",
    "            print(\"Invalid YouTube URL. Please try again.\")\n",
    "            continue\n",
    "            \n",
    "        # Download the video\n",
    "        download_youtube_video(url)\n",
    "        \n",
    "if __name__ == \"__main__\":\n",
    "    main()"
   ]
  },
  {
   "cell_type": "code",
   "execution_count": null,
   "id": "027fabca",
   "metadata": {},
   "outputs": [],
   "source": []
  },
  {
   "cell_type": "code",
   "execution_count": 3,
   "id": "663c5a1d",
   "metadata": {},
   "outputs": [
    {
     "name": "stdout",
     "output_type": "stream",
     "text": [
      "Unexpected error: HTTP Error 400: Bad Request\n",
      "Invalid YouTube URL. Please try again.\n",
      "Exiting program.\n"
     ]
    }
   ],
   "source": [
    "import os\n",
    "from pytube import YouTube\n",
    "from pytube.exceptions import PytubeError\n",
    "\n",
    "def download_youtube_video(url, output_path=\"downloads\"):\n",
    "    try:\n",
    "        # Create output directory if it doesn't exist\n",
    "        if not os.path.exists(output_path):\n",
    "            os.makedirs(output_path)\n",
    "        \n",
    "        # Initialize YouTube object\n",
    "        yt = YouTube(url)\n",
    "        \n",
    "        print(f\"Video Title: {yt.title}\")\n",
    "        print(\"Available MP4 streams:\")\n",
    "        streams = yt.streams.filter(file_extension='mp4', progressive=True).order_by('resolution').desc()\n",
    "        \n",
    "        if not streams:\n",
    "            print(\"No suitable MP4 streams found.\")\n",
    "            return\n",
    "        \n",
    "        # Display available streams\n",
    "        for i, stream in enumerate(streams, 1):\n",
    "            print(f\"{i}. Resolution: {stream.resolution}, FPS: {stream.fps}, Size: ~{stream.filesize_mb:.2f} MB\")\n",
    "        \n",
    "        # Let user choose a stream\n",
    "        choice = input(\"Enter stream number to download (or '1' for highest resolution): \") or \"1\"\n",
    "        try:\n",
    "            choice = int(choice) - 1\n",
    "            if 0 <= choice < len(streams):\n",
    "                selected_stream = streams[choice]\n",
    "            else:\n",
    "                print(\"Invalid choice, selecting highest resolution.\")\n",
    "                selected_stream = streams[0]\n",
    "        except ValueError:\n",
    "            print(\"Invalid input, selecting highest resolution.\")\n",
    "            selected_stream = streams[0]\n",
    "        \n",
    "        print(f\"Downloading: {yt.title} ({selected_stream.resolution})\")\n",
    "        selected_stream.download(output_path=output_path)\n",
    "        print(f\"Download completed! Video saved to {output_path}/{yt.title}.mp4\")\n",
    "        \n",
    "    except PytubeError as e:\n",
    "        print(f\"YouTube error: {e}\")\n",
    "    except Exception as e:\n",
    "        print(f\"Unexpected error: {e}\")\n",
    "\n",
    "def main():\n",
    "    while True:\n",
    "        url = input(\"Enter YouTube video URL (or 'q' to quit): \")\n",
    "        if url.lower() == 'q':\n",
    "            print(\"Exiting program.\")\n",
    "            break\n",
    "        if not url.startswith(('https://www.youtube.com', 'https://youtu.be')):\n",
    "            print(\"Invalid YouTube URL. Please try again.\")\n",
    "            continue\n",
    "        download_youtube_video(url)\n",
    "\n",
    "if __name__ == \"__main__\":\n",
    "    main()"
   ]
  },
  {
   "cell_type": "code",
   "execution_count": null,
   "id": "39fd6624",
   "metadata": {},
   "outputs": [],
   "source": []
  }
 ],
 "metadata": {
  "kernelspec": {
   "display_name": "YouTubeVideoDownload",
   "language": "python",
   "name": "python3"
  },
  "language_info": {
   "codemirror_mode": {
    "name": "ipython",
    "version": 3
   },
   "file_extension": ".py",
   "mimetype": "text/x-python",
   "name": "python",
   "nbconvert_exporter": "python",
   "pygments_lexer": "ipython3",
   "version": "3.13.3"
  }
 },
 "nbformat": 4,
 "nbformat_minor": 5
}
